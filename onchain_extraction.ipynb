{
 "cells": [
  {
   "cell_type": "code",
   "execution_count": 1,
   "id": "6f74a7a4",
   "metadata": {},
   "outputs": [],
   "source": [
    "import requests\n",
    "import time"
   ]
  },
  {
   "cell_type": "code",
   "execution_count": 2,
   "id": "cdc6e45a",
   "metadata": {},
   "outputs": [],
   "source": [
    "class Transaction():\n",
    "    def __init__(self, transhash, sender, receiver, value, timestamp):\n",
    "        self.transhash = transhash\n",
    "        self.sender = sender\n",
    "        self.receiver = receiver\n",
    "        self.value = value\n",
    "        self.timestamp = timestamp\n",
    "    \n",
    "    def toString(self):\n",
    "        return \"{transhash: \" + self.transhash + \", value: \" + str(self.value) + \", timestamp: \" + str(self.timestamp) + \", sender: \" + ', '.join(str(e) for e in self.sender) + \", receiver: \" + ', '.join(str(e) for e in self.receiver) + \"}\""
   ]
  },
  {
   "cell_type": "code",
   "execution_count": 3,
   "id": "134001ba",
   "metadata": {},
   "outputs": [],
   "source": [
    "class OnchainApi():\n",
    "    def __init__(self):\n",
    "        self.api_key = \"WEXGR6A7CZHGMMH2ZUGCZM9WY1NZUWX4VM\"\n",
    "\n",
    "    def getRequest(self, url):\n",
    "        r = requests.get(url = url)\n",
    "        return r.json()\n",
    "        \n",
    "    def getAllTransactionsByBlock(self, blockIds):\n",
    "        # get transaction hash list\n",
    "        trans = []\n",
    "        for block in blockIds:\n",
    "            block1 = self.getRequest(\"https://api.blockcypher.com/v1/eth/main/blocks/\" + block)\n",
    "            block1_trans_num = max(block1[\"n_tx\"], 500)\n",
    "            time.sleep(0.5)\n",
    "            block2 = self.getRequest(\"https://api.blockcypher.com/v1/eth/main/blocks/\" + block + \"?limit=\" + str(block1_trans_num))\n",
    "            time.sleep(0.5)\n",
    "            trans.extend(block2[\"txids\"])\n",
    "    \n",
    "        results = []\n",
    "        for tran in trans:\n",
    "            temp = self.getTransactionByHash(tran)\n",
    "            print(temp.toString())\n",
    "            results.append(temp)\n",
    "            time.sleep(0.4)\n",
    "            \n",
    "        return results\n",
    "    \n",
    "    # return transaction object by transaction hash\n",
    "    def getTransactionByHash(self, transactionHash):\n",
    "        transactions = self.getRequest(\"https://api.blockcypher.com/v1/eth/main/txs/\" + transactionHash)\n",
    "        print(transactions)\n",
    "        transction = Transaction(transactionHash, transactions[\"inputs\"][0][\"addresses\"], transactions[\"outputs\"][0][\"addresses\"], transactions[\"total\"]*10**(-18), transactions[\"confirmed\"])\n",
    "        \n",
    "        return transction\n",
    "    \n",
    "    # get block number by timestamp\n",
    "    def getBlockByTime(self, timestamp):\n",
    "        block_result = self.getRequest(\"https://api.etherscan.io/api?module=block&action=getblocknobytime&timestamp=\" + str(timestamp) + \"&closest=before&apikey=\" + self.api_key)\n",
    "        return block_result[\"result\"]\n",
    "    \n",
    "    def getPrice(self):\n",
    "        price = self.getRequest(\"https://api.etherscan.io/api?module=stats&action=ethprice&apikey=\" + self.api_key)\n",
    "        return price[\"result\"][\"ethusd\"]"
   ]
  },
  {
   "cell_type": "code",
   "execution_count": 5,
   "id": "03ecf5f7",
   "metadata": {},
   "outputs": [
    {
     "data": {
      "text/plain": [
       "'\\n# how to use this file\\napi = OnchainApi()\\n# get all transaction details given block ID\\n# input: list containing block IDs\\n# output: list of Transaction objects \\napi.getAllTransactionsByBlock([\"12702435\"])\\n# get information by transaction hash\\n# input: transaction hash\\n# ouput: Transaction object\\napi.getTransactionByHash(\"4a5cd5198911081f8dae721bdf80284f3b9fc707753318cb8089d469fea1aebe\")\\n# get block number by timestamp\\napi.getBlockByTime(1578638524)\\n# get latest price\\napi.getPrice()\\n'"
      ]
     },
     "execution_count": 5,
     "metadata": {},
     "output_type": "execute_result"
    }
   ],
   "source": [
    "'''\n",
    "# how to use this file\n",
    "api = OnchainApi()\n",
    "# get all transaction details given block ID\n",
    "# input: list containing block IDs\n",
    "# output: list of Transaction objects \n",
    "api.getAllTransactionsByBlock([\"12702435\"])\n",
    "# get information by transaction hash\n",
    "# input: transaction hash\n",
    "# ouput: Transaction object\n",
    "api.getTransactionByHash(\"4a5cd5198911081f8dae721bdf80284f3b9fc707753318cb8089d469fea1aebe\")\n",
    "# get block number by timestamp\n",
    "api.getBlockByTime(1578638524)\n",
    "# get latest price\n",
    "api.getPrice()\n",
    "'''"
   ]
  }
 ],
 "metadata": {
  "kernelspec": {
   "display_name": "Python 3",
   "language": "python",
   "name": "python3"
  },
  "language_info": {
   "codemirror_mode": {
    "name": "ipython",
    "version": 3
   },
   "file_extension": ".py",
   "mimetype": "text/x-python",
   "name": "python",
   "nbconvert_exporter": "python",
   "pygments_lexer": "ipython3",
   "version": "3.8.8"
  }
 },
 "nbformat": 4,
 "nbformat_minor": 5
}
