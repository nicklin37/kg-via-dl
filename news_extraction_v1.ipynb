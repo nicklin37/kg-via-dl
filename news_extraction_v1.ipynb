{
 "cells": [
  {
   "cell_type": "code",
   "execution_count": null,
   "id": "e53f0246",
   "metadata": {},
   "outputs": [],
   "source": [
    "# pip install newsdataapi\n",
    "from newsdataapi import NewsDataApiClient"
   ]
  },
  {
   "cell_type": "code",
   "execution_count": null,
   "id": "1884836b",
   "metadata": {},
   "outputs": [],
   "source": [
    "class NewsApi:\n",
    "    def __init__(self):\n",
    "        self.api = NewsDataApiClient(apikey=\"pub_4584b806d335cee6da69ee66462df41c4844\")\n",
    "        \n",
    "    def getNewsByKeyword(self, keyword, startDate = None, endDate = None, pages = 1):\n",
    "        result = []\n",
    "        for page in range(pages):\n",
    "#             if startDate and endDate:\n",
    "#                 response = self.api.archive_api(country = \"us\", language = \"en\", q = keyword, page = page, from_date=\"startDate\", to_date=\"endDate\")\n",
    "#                 print(response)\n",
    "#             else:\n",
    "            response = self.api.news_api(country = \"us\", language = \"en\", q = keyword, page = page)\n",
    "            for item in response[\"results\"]:\n",
    "                if item[\"content\"]:\n",
    "                    result.append(item[\"content\"])\n",
    "        return result\n",
    "    \n",
    "    def getLatestByKeywordInTitle(self, keyword, pages = 1):\n",
    "        result = []\n",
    "        for page in range(pages):\n",
    "            response = self.api.news_api(country = \"us\", language = \"en\", qInTitle = keyword, page = page)\n",
    "            for item in response[\"results\"]:\n",
    "                if item[\"content\"]:\n",
    "                    result.append(item[\"content\"])\n",
    "        return result"
   ]
  },
  {
   "cell_type": "code",
   "execution_count": null,
   "id": "552aa1ac",
   "metadata": {},
   "outputs": [],
   "source": [
    "'''\n",
    "# how to use this API\n",
    "newsapi = NewsApi()\n",
    "\n",
    "# get latest news by keyword filter\n",
    "# input: keyword, number of pages needed, each page contains 10 items\n",
    "# current plan is limited, do not use date searches\n",
    "# startDate and endDate should be ISO 8601 format (e.g. 2021-04-18 or 2021-04-18T04:04:34)\n",
    "# if either date is empty, function will return latest news\n",
    "result = newsapi.getLatestByKeyword(\"bitcoin\", 1)\n",
    "\n",
    "# get latest news by keyword that exist in title only\n",
    "# input: keyword in title, number of pages needed, each page contains ten items\n",
    "result = newsapi.getLatestByKeywordInTitle(\"bitcoin\", 1)\n",
    "'''"
   ]
  }
 ],
 "metadata": {
  "kernelspec": {
   "display_name": "Python 3",
   "language": "python",
   "name": "python3"
  },
  "language_info": {
   "codemirror_mode": {
    "name": "ipython",
    "version": 3
   },
   "file_extension": ".py",
   "mimetype": "text/x-python",
   "name": "python",
   "nbconvert_exporter": "python",
   "pygments_lexer": "ipython3",
   "version": "3.8.8"
  }
 },
 "nbformat": 4,
 "nbformat_minor": 5
}
